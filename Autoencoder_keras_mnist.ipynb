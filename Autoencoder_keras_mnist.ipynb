{
  "nbformat": 4,
  "nbformat_minor": 0,
  "metadata": {
    "colab": {
      "name": "Autoencoder-keras mnist",
      "version": "0.3.2",
      "views": {},
      "default_view": {},
      "provenance": [],
      "collapsed_sections": []
    },
    "kernelspec": {
      "name": "python3",
      "display_name": "Python 3"
    }
  },
  "cells": [
    {
      "metadata": {
        "id": "lH8BizYJNZ4r",
        "colab_type": "code",
        "colab": {
          "autoexec": {
            "startup": false,
            "wait_interval": 0
          },
          "output_extras": [
            {}
          ],
          "base_uri": "https://localhost:8080/",
          "height": 34
        },
        "outputId": "98928b7a-2b5a-4ea6-81ed-b0c60124c9c8",
        "executionInfo": {
          "status": "ok",
          "timestamp": 1522317828393,
          "user_tz": -120,
          "elapsed": 2024,
          "user": {
            "displayName": "Ahmed Kounasso",
            "photoUrl": "//lh5.googleusercontent.com/-y9-UY9Wb8Kg/AAAAAAAAAAI/AAAAAAAAAhI/kGmwhLZqXyM/s50-c-k-no/photo.jpg",
            "userId": "102666054894694800027"
          }
        }
      },
      "cell_type": "code",
      "source": [
        "from keras.layers import Input, Dense\n",
        "from keras.models import Model\n",
        "from keras.datasets import mnist\n",
        "\n",
        "import numpy as np\n",
        "import matplotlib.pyplot as plt\n",
        "\n",
        "(X_train, _), (X_test, _) = mnist.load_data()\n",
        "\n",
        "X_train = X_train.astype('float32') / 255.\n",
        "X_test = X_test.astype('float32') / 255.\n",
        "X_train = X_train.reshape((X_train.shape[0], -1))\n",
        "X_test = X_test.reshape((X_test.shape[0], -1))"
      ],
      "execution_count": 0,
      "outputs": [
        {
          "output_type": "stream",
          "text": [
            "Using TensorFlow backend.\n"
          ],
          "name": "stderr"
        }
      ]
    },
    {
      "metadata": {
        "id": "MKAmHyE6Nhvj",
        "colab_type": "code",
        "colab": {
          "autoexec": {
            "startup": false,
            "wait_interval": 0
          }
        }
      },
      "cell_type": "code",
      "source": [
        "INPUT_SIZE = 784\n",
        "ENCODING_SIZE = 64\n",
        "\n",
        "input_img = Input(shape=(INPUT_SIZE,))\n",
        "encoded = Dense(ENCODING_SIZE, activation='relu')(input_img)\n",
        "decoded = Dense(INPUT_SIZE, activation='relu')(encoded)\n",
        "autoencoder = Model(input_img, decoded)"
      ],
      "execution_count": 0,
      "outputs": []
    },
    {
      "metadata": {
        "id": "1mFMh62iNruI",
        "colab_type": "code",
        "colab": {
          "autoexec": {
            "startup": false,
            "wait_interval": 0
          },
          "output_extras": [
            {},
            {},
            {},
            {},
            {},
            {},
            {},
            {},
            {},
            {}
          ],
          "base_uri": "https://localhost:8080/",
          "height": 1805
        },
        "outputId": "3aacf834-cd73-441f-c160-00c9e386b075",
        "executionInfo": {
          "status": "ok",
          "timestamp": 1522317989575,
          "user_tz": -120,
          "elapsed": 141537,
          "user": {
            "displayName": "Ahmed Kounasso",
            "photoUrl": "//lh5.googleusercontent.com/-y9-UY9Wb8Kg/AAAAAAAAAAI/AAAAAAAAAhI/kGmwhLZqXyM/s50-c-k-no/photo.jpg",
            "userId": "102666054894694800027"
          }
        }
      },
      "cell_type": "code",
      "source": [
        "autoencoder.compile(optimizer='adam', loss='mean_squared_error')\n",
        "autoencoder.fit(X_train, X_train, epochs=50, batch_size=256, shuffle=True, validation_split=0.2)"
      ],
      "execution_count": 0,
      "outputs": [
        {
          "output_type": "stream",
          "text": [
            "Train on 48000 samples, validate on 12000 samples\n",
            "Epoch 1/50\n",
            "48000/48000 [==============================] - 3s 53us/step - loss: 0.0363 - val_loss: 0.0174\n",
            "Epoch 2/50\n",
            "48000/48000 [==============================] - 3s 58us/step - loss: 0.0144 - val_loss: 0.0124\n",
            "Epoch 3/50\n",
            "48000/48000 [==============================] - 3s 59us/step - loss: 0.0115 - val_loss: 0.0108\n",
            "Epoch 4/50\n",
            "48000/48000 [==============================] - 3s 59us/step - loss: 0.0104 - val_loss: 0.0100\n",
            "Epoch 5/50\n",
            "48000/48000 [==============================] - 3s 60us/step - loss: 0.0098 - val_loss: 0.0095\n",
            "Epoch 6/50\n",
            "23552/48000 [=============>................] - ETA: 1s - loss: 0.0094"
          ],
          "name": "stdout"
        },
        {
          "output_type": "stream",
          "text": [
            "48000/48000 [==============================] - 3s 60us/step - loss: 0.0094 - val_loss: 0.0093\n",
            "Epoch 7/50\n",
            "48000/48000 [==============================] - 3s 59us/step - loss: 0.0092 - val_loss: 0.0091\n",
            "Epoch 8/50\n",
            "48000/48000 [==============================] - 3s 60us/step - loss: 0.0090 - val_loss: 0.0089\n",
            "Epoch 9/50\n",
            "48000/48000 [==============================] - 3s 59us/step - loss: 0.0088 - val_loss: 0.0088\n",
            "Epoch 10/50\n",
            "48000/48000 [==============================] - 3s 59us/step - loss: 0.0087 - val_loss: 0.0087\n",
            "Epoch 11/50\n",
            "48000/48000 [==============================] - 3s 60us/step - loss: 0.0087 - val_loss: 0.0086\n",
            "Epoch 12/50\n",
            " 4352/48000 [=>............................] - ETA: 2s - loss: 0.0087"
          ],
          "name": "stdout"
        },
        {
          "output_type": "stream",
          "text": [
            "48000/48000 [==============================] - 3s 60us/step - loss: 0.0086 - val_loss: 0.0086\n",
            "Epoch 13/50\n",
            "48000/48000 [==============================] - 3s 59us/step - loss: 0.0086 - val_loss: 0.0086\n",
            "Epoch 14/50\n",
            "48000/48000 [==============================] - 3s 61us/step - loss: 0.0085 - val_loss: 0.0085\n",
            "Epoch 15/50\n",
            "48000/48000 [==============================] - 3s 59us/step - loss: 0.0085 - val_loss: 0.0085\n",
            "Epoch 16/50\n",
            "48000/48000 [==============================] - 3s 60us/step - loss: 0.0085 - val_loss: 0.0085\n",
            "Epoch 17/50\n",
            "48000/48000 [==============================] - 3s 60us/step - loss: 0.0084 - val_loss: 0.0084\n",
            "Epoch 18/50\n",
            " 1280/48000 [..............................] - ETA: 2s - loss: 0.0083"
          ],
          "name": "stdout"
        },
        {
          "output_type": "stream",
          "text": [
            "48000/48000 [==============================] - 3s 58us/step - loss: 0.0084 - val_loss: 0.0084\n",
            "Epoch 19/50\n",
            "48000/48000 [==============================] - 3s 60us/step - loss: 0.0083 - val_loss: 0.0084\n",
            "Epoch 20/50\n",
            "48000/48000 [==============================] - 3s 59us/step - loss: 0.0083 - val_loss: 0.0083\n",
            "Epoch 21/50\n",
            "48000/48000 [==============================] - 3s 60us/step - loss: 0.0083 - val_loss: 0.0083\n",
            "Epoch 22/50\n",
            "48000/48000 [==============================] - 3s 59us/step - loss: 0.0083 - val_loss: 0.0083\n",
            "Epoch 23/50\n",
            "48000/48000 [==============================] - 3s 59us/step - loss: 0.0083 - val_loss: 0.0083\n",
            "Epoch 24/50\n",
            " 2304/48000 [>.............................] - ETA: 2s - loss: 0.0083"
          ],
          "name": "stdout"
        },
        {
          "output_type": "stream",
          "text": [
            "48000/48000 [==============================] - 3s 59us/step - loss: 0.0083 - val_loss: 0.0083\n",
            "Epoch 25/50\n",
            "48000/48000 [==============================] - 3s 57us/step - loss: 0.0083 - val_loss: 0.0083\n",
            "Epoch 26/50\n",
            "48000/48000 [==============================] - 3s 58us/step - loss: 0.0083 - val_loss: 0.0083\n",
            "Epoch 27/50\n",
            "48000/48000 [==============================] - 3s 58us/step - loss: 0.0083 - val_loss: 0.0083\n",
            "Epoch 28/50\n",
            "48000/48000 [==============================] - 3s 58us/step - loss: 0.0083 - val_loss: 0.0083\n",
            "Epoch 29/50\n",
            "48000/48000 [==============================] - 3s 58us/step - loss: 0.0082 - val_loss: 0.0083\n",
            "Epoch 30/50\n",
            " 2304/48000 [>.............................] - ETA: 2s - loss: 0.0080"
          ],
          "name": "stdout"
        },
        {
          "output_type": "stream",
          "text": [
            "48000/48000 [==============================] - 3s 57us/step - loss: 0.0082 - val_loss: 0.0083\n",
            "Epoch 31/50\n",
            "48000/48000 [==============================] - 3s 59us/step - loss: 0.0082 - val_loss: 0.0083\n",
            "Epoch 32/50\n",
            "48000/48000 [==============================] - 3s 60us/step - loss: 0.0082 - val_loss: 0.0082\n",
            "Epoch 33/50\n",
            "48000/48000 [==============================] - 3s 59us/step - loss: 0.0082 - val_loss: 0.0083\n",
            "Epoch 34/50\n",
            "48000/48000 [==============================] - 3s 59us/step - loss: 0.0082 - val_loss: 0.0082\n",
            "Epoch 35/50\n",
            "48000/48000 [==============================] - 3s 59us/step - loss: 0.0082 - val_loss: 0.0082\n",
            "Epoch 36/50\n",
            " 1280/48000 [..............................] - ETA: 3s - loss: 0.0083"
          ],
          "name": "stdout"
        },
        {
          "output_type": "stream",
          "text": [
            "48000/48000 [==============================] - 3s 59us/step - loss: 0.0082 - val_loss: 0.0083\n",
            "Epoch 37/50\n",
            "48000/48000 [==============================] - 3s 59us/step - loss: 0.0082 - val_loss: 0.0082\n",
            "Epoch 38/50\n",
            "48000/48000 [==============================] - 3s 58us/step - loss: 0.0082 - val_loss: 0.0082\n",
            "Epoch 39/50\n",
            "48000/48000 [==============================] - 3s 58us/step - loss: 0.0082 - val_loss: 0.0082\n",
            "Epoch 40/50\n",
            "48000/48000 [==============================] - 3s 59us/step - loss: 0.0082 - val_loss: 0.0082\n",
            "Epoch 41/50\n",
            "48000/48000 [==============================] - 3s 58us/step - loss: 0.0082 - val_loss: 0.0082\n",
            "Epoch 42/50\n",
            " 1280/48000 [..............................] - ETA: 2s - loss: 0.0083"
          ],
          "name": "stdout"
        },
        {
          "output_type": "stream",
          "text": [
            "48000/48000 [==============================] - 3s 57us/step - loss: 0.0082 - val_loss: 0.0082\n",
            "Epoch 43/50\n",
            "48000/48000 [==============================] - 3s 59us/step - loss: 0.0082 - val_loss: 0.0082\n",
            "Epoch 44/50\n",
            "48000/48000 [==============================] - 3s 60us/step - loss: 0.0082 - val_loss: 0.0082\n",
            "Epoch 45/50\n",
            "48000/48000 [==============================] - 3s 60us/step - loss: 0.0082 - val_loss: 0.0082\n",
            "Epoch 46/50\n",
            "48000/48000 [==============================] - 3s 58us/step - loss: 0.0082 - val_loss: 0.0082\n",
            "Epoch 47/50\n",
            "48000/48000 [==============================] - 3s 59us/step - loss: 0.0082 - val_loss: 0.0082\n",
            "Epoch 48/50\n",
            " 2304/48000 [>.............................] - ETA: 2s - loss: 0.0081"
          ],
          "name": "stdout"
        },
        {
          "output_type": "stream",
          "text": [
            "48000/48000 [==============================] - 3s 58us/step - loss: 0.0082 - val_loss: 0.0082\n",
            "Epoch 49/50\n",
            "48000/48000 [==============================] - 3s 58us/step - loss: 0.0082 - val_loss: 0.0082\n",
            "Epoch 50/50\n",
            "48000/48000 [==============================] - 3s 57us/step - loss: 0.0082 - val_loss: 0.0082\n"
          ],
          "name": "stdout"
        },
        {
          "output_type": "execute_result",
          "data": {
            "text/plain": [
              "<keras.callbacks.History at 0x7f449e26a588>"
            ]
          },
          "metadata": {
            "tags": []
          },
          "execution_count": 4
        }
      ]
    },
    {
      "metadata": {
        "id": "CiLAHkvTNu2z",
        "colab_type": "code",
        "colab": {
          "autoexec": {
            "startup": false,
            "wait_interval": 0
          }
        }
      },
      "cell_type": "code",
      "source": [
        "decoded_imgs = autoencoder.predict(X_test)"
      ],
      "execution_count": 0,
      "outputs": []
    },
    {
      "metadata": {
        "id": "iI8447a-OTPq",
        "colab_type": "code",
        "colab": {
          "autoexec": {
            "startup": false,
            "wait_interval": 0
          },
          "output_extras": [
            {}
          ],
          "base_uri": "https://localhost:8080/",
          "height": 317
        },
        "outputId": "02b87b4d-2c04-4a8c-bd5c-98111bb5cc1b",
        "executionInfo": {
          "status": "ok",
          "timestamp": 1522318009605,
          "user_tz": -120,
          "elapsed": 1555,
          "user": {
            "displayName": "Ahmed Kounasso",
            "photoUrl": "//lh5.googleusercontent.com/-y9-UY9Wb8Kg/AAAAAAAAAAI/AAAAAAAAAhI/kGmwhLZqXyM/s50-c-k-no/photo.jpg",
            "userId": "102666054894694800027"
          }
        }
      },
      "cell_type": "code",
      "source": [
        "plt.figure(figsize=(20, 4))\n",
        "for i in range(10):\n",
        "    # original\n",
        "    plt.subplot(2, 10, i + 1)\n",
        "    plt.imshow(X_test[i].reshape(28, 28))\n",
        "    plt.gray()\n",
        "    plt.axis('off')\n",
        " \n",
        "    # reconstruction\n",
        "    plt.subplot(2, 10, i + 1 + 10)\n",
        "    plt.imshow(decoded_imgs[i].reshape(28, 28))\n",
        "    plt.gray()\n",
        "    plt.axis('off')\n",
        " \n",
        "plt.tight_layout()\n",
        "plt.show()"
      ],
      "execution_count": 0,
      "outputs": [
        {
          "output_type": "display_data",
          "data": {
            "image/png": "[encoded data removed]",
            "text/plain": [
              "<matplotlib.figure.Figure at 0x7f44945b3e48>"
            ]
          },
          "metadata": {
            "tags": []
          }
        }
      ]
    },
    {
      "metadata": {
        "id": "4XUR1CTsOV6u",
        "colab_type": "code",
        "colab": {
          "autoexec": {
            "startup": false,
            "wait_interval": 0
          }
        }
      },
      "cell_type": "code",
      "source": [
        ""
      ],
      "execution_count": 0,
      "outputs": []
    }
  ]
}